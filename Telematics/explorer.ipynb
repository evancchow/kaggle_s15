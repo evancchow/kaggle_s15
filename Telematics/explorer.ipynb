{
 "metadata": {
  "name": ""
 },
 "nbformat": 3,
 "nbformat_minor": 0,
 "worksheets": [
  {
   "cells": [
    {
     "cell_type": "code",
     "collapsed": false,
     "input": [
      "import csv\n",
      "import numpy as np \n",
      "from numpy.linalg import norm\n",
      "import os\n",
      "from os import listdir\n",
      "import random, math\n",
      "from sklearn.linear_model import LogisticRegression, SGDRegressor, Lasso, ElasticNet\n",
      "from sklearn.ensemble import GradientBoostingRegressor\n",
      "from sklearn import preprocessing\n",
      "import datetime"
     ],
     "language": "python",
     "metadata": {},
     "outputs": [],
     "prompt_number": 25
    },
    {
     "cell_type": "code",
     "collapsed": false,
     "input": [
      "from main import *"
     ],
     "language": "python",
     "metadata": {},
     "outputs": [],
     "prompt_number": 2
    },
    {
     "cell_type": "code",
     "collapsed": false,
     "input": [
      "path=DATA_PATH+str(1)+\"/\""
     ],
     "language": "python",
     "metadata": {},
     "outputs": [],
     "prompt_number": 5
    },
    {
     "cell_type": "code",
     "collapsed": false,
     "input": [
      "data_1=parse_data(path+'1.csv')"
     ],
     "language": "python",
     "metadata": {},
     "outputs": [],
     "prompt_number": 9
    },
    {
     "cell_type": "code",
     "collapsed": false,
     "input": [
      "data_1[:5]"
     ],
     "language": "python",
     "metadata": {},
     "outputs": [
      {
       "metadata": {},
       "output_type": "pyout",
       "prompt_number": 12,
       "text": [
        "[array([ 0.,  0.]),\n",
        " array([ 18.6, -11.1]),\n",
        " array([ 36.1, -21.9]),\n",
        " array([ 53.7, -32.6]),\n",
        " array([ 70.1, -42.8])]"
       ]
      }
     ],
     "prompt_number": 12
    }
   ],
   "metadata": {}
  }
 ]
}
